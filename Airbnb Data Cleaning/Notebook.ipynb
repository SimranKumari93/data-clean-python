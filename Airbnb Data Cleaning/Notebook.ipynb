{
 "cells": [
  {
   "cell_type": "code",
   "execution_count": 2,
   "id": "e7900ccd",
   "metadata": {},
   "outputs": [],
   "source": [
    "import pandas as pd"
   ]
  },
  {
   "cell_type": "code",
   "execution_count": 11,
   "id": "d3459c53",
   "metadata": {},
   "outputs": [
    {
     "ename": "NameError",
     "evalue": "name 'pd' is not defined",
     "output_type": "error",
     "traceback": [
      "\u001b[31m---------------------------------------------------------------------------\u001b[39m",
      "\u001b[31mNameError\u001b[39m                                 Traceback (most recent call last)",
      "\u001b[36mCell\u001b[39m\u001b[36m \u001b[39m\u001b[32mIn[11]\u001b[39m\u001b[32m, line 1\u001b[39m\n\u001b[32m----> \u001b[39m\u001b[32m1\u001b[39m data = \u001b[43mpd\u001b[49m.read_csv(\u001b[33m'\u001b[39m\u001b[33mAirbnb_Open_Data.csv\u001b[39m\u001b[33m'\u001b[39m)\n",
      "\u001b[31mNameError\u001b[39m: name 'pd' is not defined"
     ]
    }
   ],
   "source": [
    "data = pd.read_csv('Airbnb_Open_Data.csv')"
   ]
  },
  {
   "cell_type": "code",
   "execution_count": null,
   "id": "5dad14bf",
   "metadata": {},
   "outputs": [
    {
     "ename": "NameError",
     "evalue": "name 'df' is not defined",
     "output_type": "error",
     "traceback": [
      "\u001b[31m---------------------------------------------------------------------------\u001b[39m",
      "\u001b[31mNameError\u001b[39m                                 Traceback (most recent call last)",
      "\u001b[36mCell\u001b[39m\u001b[36m \u001b[39m\u001b[32mIn[3]\u001b[39m\u001b[32m, line 1\u001b[39m\n\u001b[32m----> \u001b[39m\u001b[32m1\u001b[39m \u001b[43mdf\u001b[49m.info()\n\u001b[32m      2\u001b[39m \u001b[38;5;66;03m# data.columns()\u001b[39;00m\n",
      "\u001b[31mNameError\u001b[39m: name 'df' is not defined"
     ]
    }
   ],
   "source": [
    "data.info()\n",
    "data.columns"
   ]
  },
  {
   "cell_type": "code",
   "execution_count": null,
   "id": "92136f0a",
   "metadata": {},
   "outputs": [],
   "source": [
    "data[\"License\"]"
   ]
  },
  {
   "cell_type": "code",
   "execution_count": null,
   "id": "eb38ad38",
   "metadata": {},
   "outputs": [
    {
     "ename": "NameError",
     "evalue": "name 'data' is not defined",
     "output_type": "error",
     "traceback": [
      "\u001b[31m---------------------------------------------------------------------------\u001b[39m",
      "\u001b[31mNameError\u001b[39m                                 Traceback (most recent call last)",
      "\u001b[36mCell\u001b[39m\u001b[36m \u001b[39m\u001b[32mIn[1]\u001b[39m\u001b[32m, line 1\u001b[39m\n\u001b[32m----> \u001b[39m\u001b[32m1\u001b[39m \u001b[43mdata\u001b[49m.info()\n",
      "\u001b[31mNameError\u001b[39m: name 'data' is not defined"
     ]
    }
   ],
   "source": [
    "data.info()"
   ]
  },
  {
   "cell_type": "code",
   "execution_count": null,
   "id": "8a87cecb",
   "metadata": {},
   "outputs": [],
   "source": [
    "columns_to_keep = [\"\"]\n",
    "columns_to_drop = []"
   ]
  },
  {
   "cell_type": "code",
   "execution_count": null,
   "id": "77ade8f0",
   "metadata": {},
   "outputs": [],
   "source": [
    "len(columns_to_keep)"
   ]
  },
  {
   "cell_type": "code",
   "execution_count": null,
   "id": "16c27221",
   "metadata": {},
   "outputs": [],
   "source": [
    "len(columns_to_drop)"
   ]
  },
  {
   "cell_type": "code",
   "execution_count": null,
   "id": "ac296f9e",
   "metadata": {},
   "outputs": [],
   "source": [
    "data[columns_to_keep]"
   ]
  },
  {
   "cell_type": "code",
   "execution_count": 7,
   "id": "c35318bc",
   "metadata": {},
   "outputs": [
    {
     "ename": "NameError",
     "evalue": "name 'data' is not defined",
     "output_type": "error",
     "traceback": [
      "\u001b[31m---------------------------------------------------------------------------\u001b[39m",
      "\u001b[31mNameError\u001b[39m                                 Traceback (most recent call last)",
      "\u001b[36mCell\u001b[39m\u001b[36m \u001b[39m\u001b[32mIn[7]\u001b[39m\u001b[32m, line 1\u001b[39m\n\u001b[32m----> \u001b[39m\u001b[32m1\u001b[39m \u001b[43mdata\u001b[49m.shape\n",
      "\u001b[31mNameError\u001b[39m: name 'data' is not defined"
     ]
    }
   ],
   "source": [
    "data.shape"
   ]
  },
  {
   "cell_type": "code",
   "execution_count": null,
   "id": "345092bc",
   "metadata": {},
   "outputs": [],
   "source": [
    "# 2nd Method dropping columns \n",
    "data = data.drop(columns = columns_to_drop, inplace = True)"
   ]
  },
  {
   "cell_type": "code",
   "execution_count": null,
   "id": "7b6d6d1a",
   "metadata": {},
   "outputs": [],
   "source": [
    "data.shape"
   ]
  },
  {
   "cell_type": "code",
   "execution_count": 10,
   "id": "52d47a2f",
   "metadata": {},
   "outputs": [
    {
     "ename": "NameError",
     "evalue": "name 'data' is not defined",
     "output_type": "error",
     "traceback": [
      "\u001b[31m---------------------------------------------------------------------------\u001b[39m",
      "\u001b[31mNameError\u001b[39m                                 Traceback (most recent call last)",
      "\u001b[36mCell\u001b[39m\u001b[36m \u001b[39m\u001b[32mIn[10]\u001b[39m\u001b[32m, line 1\u001b[39m\n\u001b[32m----> \u001b[39m\u001b[32m1\u001b[39m \u001b[43mdata\u001b[49m.columns\n",
      "\u001b[31mNameError\u001b[39m: name 'data' is not defined"
     ]
    }
   ],
   "source": [
    "data.columns"
   ]
  },
  {
   "cell_type": "code",
   "execution_count": null,
   "id": "3e14d229",
   "metadata": {},
   "outputs": [],
   "source": [
    "data.rename(columns= {'NAME' : 'Name'})"
   ]
  },
  {
   "cell_type": "code",
   "execution_count": 8,
   "id": "c507f54f",
   "metadata": {},
   "outputs": [
    {
     "ename": "NameError",
     "evalue": "name 'data' is not defined",
     "output_type": "error",
     "traceback": [
      "\u001b[31m---------------------------------------------------------------------------\u001b[39m",
      "\u001b[31mNameError\u001b[39m                                 Traceback (most recent call last)",
      "\u001b[36mCell\u001b[39m\u001b[36m \u001b[39m\u001b[32mIn[8]\u001b[39m\u001b[32m, line 2\u001b[39m\n\u001b[32m      1\u001b[39m new_columns_names = []\n\u001b[32m----> \u001b[39m\u001b[32m2\u001b[39m \u001b[38;5;28;01mfor\u001b[39;00m i \u001b[38;5;129;01min\u001b[39;00m \u001b[43mdata\u001b[49m.columns:\n\u001b[32m      3\u001b[39m     new_columns_names.append(i.upper())\n",
      "\u001b[31mNameError\u001b[39m: name 'data' is not defined"
     ]
    }
   ],
   "source": [
    "new_columns_names = []\n",
    "for i in data.columns:\n",
    "    new_columns_names.append(i.upper())"
   ]
  },
  {
   "cell_type": "code",
   "execution_count": null,
   "id": "8c8aca51",
   "metadata": {},
   "outputs": [],
   "source": [
    "type(new_columns_names)"
   ]
  },
  {
   "cell_type": "code",
   "execution_count": null,
   "id": "3dba10ec",
   "metadata": {},
   "outputs": [],
   "source": [
    "new_dataframe_to_modify = data.copy()"
   ]
  },
  {
   "cell_type": "code",
   "execution_count": null,
   "id": "1a9a335d",
   "metadata": {},
   "outputs": [],
   "source": [
    "new_dataframe_to_modify.columns = new_columns_names"
   ]
  },
  {
   "cell_type": "code",
   "execution_count": null,
   "id": "af894425",
   "metadata": {},
   "outputs": [],
   "source": [
    "new_dataframe_to_modify.columns"
   ]
  },
  {
   "cell_type": "code",
   "execution_count": null,
   "id": "5b6608ca",
   "metadata": {},
   "outputs": [],
   "source": [
    "data.duplicated().sum()"
   ]
  },
  {
   "cell_type": "code",
   "execution_count": null,
   "id": "0aca33b8",
   "metadata": {},
   "outputs": [],
   "source": [
    "data.drop_duplicates(inplace = True)"
   ]
  },
  {
   "cell_type": "code",
   "execution_count": null,
   "id": "510e6007",
   "metadata": {},
   "outputs": [],
   "source": [
    "data.duplicated().sum()"
   ]
  },
  {
   "cell_type": "code",
   "execution_count": null,
   "id": "d45bf489",
   "metadata": {},
   "outputs": [],
   "source": [
    "data.isna().sum()"
   ]
  },
  {
   "cell_type": "code",
   "execution_count": null,
   "id": "d586fba7",
   "metadata": {},
   "outputs": [],
   "source": [
    "data.drop(columns = ['last review'], inplace = True)"
   ]
  },
  {
   "cell_type": "code",
   "execution_count": null,
   "id": "2489b735",
   "metadata": {},
   "outputs": [],
   "source": [
    "data = data.dropna(inpalce = True)"
   ]
  },
  {
   "cell_type": "code",
   "execution_count": null,
   "id": "29e6190d",
   "metadata": {},
   "outputs": [],
   "source": [
    "data[\"host_identity-verified\"].str.upper()"
   ]
  },
  {
   "cell_type": "code",
   "execution_count": null,
   "id": "da654044",
   "metadata": {},
   "outputs": [],
   "source": [
    "data[\"host_identity_verified\"] = data[\"host_identity_verified\"].str.upper()"
   ]
  },
  {
   "cell_type": "code",
   "execution_count": null,
   "id": "bbe4e279",
   "metadata": {},
   "outputs": [],
   "source": [
    "data.reset_index(inplace = True)"
   ]
  },
  {
   "cell_type": "code",
   "execution_count": null,
   "id": "4c347118",
   "metadata": {},
   "outputs": [],
   "source": [
    "data[\"instant_bookable\"].apply(lambda x: 1 if x == True else 0)"
   ]
  },
  {
   "cell_type": "code",
   "execution_count": null,
   "id": "9baf76cd",
   "metadata": {},
   "outputs": [],
   "source": [
    "type(data[\"instant_bookable\"][15])"
   ]
  },
  {
   "cell_type": "code",
   "execution_count": null,
   "id": "5ed9360c",
   "metadata": {},
   "outputs": [],
   "source": [
    "type(data[\"price\"][15])"
   ]
  },
  {
   "cell_type": "code",
   "execution_count": null,
   "id": "a478797b",
   "metadata": {},
   "outputs": [],
   "source": [
    "data[\"price\"].head(3)"
   ]
  },
  {
   "cell_type": "code",
   "execution_count": null,
   "id": "c606fa7b",
   "metadata": {},
   "outputs": [],
   "source": [
    "data[\"price\"] = data[\"price\"].str.replace(\" \", \"\")"
   ]
  },
  {
   "cell_type": "code",
   "execution_count": null,
   "id": "cbe3fce1",
   "metadata": {},
   "outputs": [],
   "source": [
    "type(data[\"price\"][1])"
   ]
  },
  {
   "cell_type": "code",
   "execution_count": null,
   "id": "c862c4d3",
   "metadata": {},
   "outputs": [],
   "source": [
    "type(data[\"price\"].astype(int)[1])"
   ]
  },
  {
   "cell_type": "code",
   "execution_count": null,
   "id": "fea69ad8",
   "metadata": {},
   "outputs": [],
   "source": [
    "data[\"price\"] = data[\"price\"].astype(int)"
   ]
  },
  {
   "cell_type": "code",
   "execution_count": null,
   "id": "dbcdfd51",
   "metadata": {},
   "outputs": [],
   "source": [
    "type(data[\"price\"][1])"
   ]
  },
  {
   "cell_type": "code",
   "execution_count": null,
   "id": "47ae4d83",
   "metadata": {},
   "outputs": [],
   "source": [
    "data.to_csv(\"Cleaned_Data.csv\")"
   ]
  },
  {
   "cell_type": "code",
   "execution_count": null,
   "id": "fdb37dff",
   "metadata": {},
   "outputs": [],
   "source": [
    "data.to_csv(\"Cleaned_Data_wo_Index\", index=False) "
   ]
  },
  {
   "cell_type": "code",
   "execution_count": null,
   "id": "25632f84",
   "metadata": {},
   "outputs": [],
   "source": [
    "data.read_csv(\"Cleaned_Data_wo_Index\")"
   ]
  },
  {
   "cell_type": "code",
   "execution_count": null,
   "id": "4f4d5b6d",
   "metadata": {},
   "outputs": [],
   "source": [
    "data.to_excel(\"Excel_cleaned_data.xlsx\")"
   ]
  },
  {
   "cell_type": "code",
   "execution_count": null,
   "id": "386087e8",
   "metadata": {},
   "outputs": [],
   "source": [
    "data.to_excel(\"Excel_cleaned_data_index_false.xlsx\", inplace = False)"
   ]
  },
  {
   "cell_type": "code",
   "execution_count": null,
   "id": "2a6103a2",
   "metadata": {},
   "outputs": [],
   "source": [
    "pd.read_excel(\"Excel_cleaned_data.xlsx\")"
   ]
  },
  {
   "cell_type": "code",
   "execution_count": null,
   "id": "f1017bb7",
   "metadata": {},
   "outputs": [],
   "source": [
    "pd.read_excel(\"Excel_cleaned_data_index_false.xlsx\")"
   ]
  },
  {
   "cell_type": "code",
   "execution_count": null,
   "id": "1291f035",
   "metadata": {},
   "outputs": [],
   "source": []
  }
 ],
 "metadata": {
  "kernelspec": {
   "display_name": ".venv",
   "language": "python",
   "name": "python3"
  },
  "language_info": {
   "codemirror_mode": {
    "name": "ipython",
    "version": 3
   },
   "file_extension": ".py",
   "mimetype": "text/x-python",
   "name": "python",
   "nbconvert_exporter": "python",
   "pygments_lexer": "ipython3",
   "version": "3.11.5"
  }
 },
 "nbformat": 4,
 "nbformat_minor": 5
}
